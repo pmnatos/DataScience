{
 "cells": [
  {
   "cell_type": "markdown",
   "metadata": {},
   "source": [
    "# IDS Instruction: Regression\n",
    "(Lisa Mannel)"
   ]
  },
  {
   "cell_type": "markdown",
   "metadata": {},
   "source": [
    "## Simple linear regression"
   ]
  },
  {
   "cell_type": "markdown",
   "metadata": {},
   "source": [
    "First we import the packages necessary fo this instruction:"
   ]
  },
  {
   "cell_type": "code",
   "execution_count": 1,
   "metadata": {},
   "outputs": [],
   "source": [
    "import numpy as np\n",
    "import matplotlib.pyplot as plt\n",
    "import pandas as pd\n",
    "from sklearn.linear_model import LinearRegression\n",
    "from sklearn.metrics import mean_squared_error, mean_absolute_error"
   ]
  },
  {
   "cell_type": "markdown",
   "metadata": {},
   "source": [
    "Consider the data set \"df\" with feature variables \"x\" and \"y\" given below."
   ]
  },
  {
   "cell_type": "code",
   "execution_count": 2,
   "metadata": {},
   "outputs": [
    {
     "name": "stdout",
     "output_type": "stream",
     "text": [
      "   x   y\n",
      "0  0   1\n",
      "1  1   3\n",
      "2  2   2\n",
      "3  3   5\n",
      "4  4   7\n",
      "5  5   8\n",
      "6  6   8\n",
      "7  7   9\n",
      "8  8  10\n",
      "9  9  12\n"
     ]
    }
   ],
   "source": [
    "df1 = pd.DataFrame({'x': [0, 1, 2, 3, 4, 5, 6, 7, 8, 9], 'y': [1, 3, 2, 5, 7, 8, 8, 9, 10, 12]})\n",
    "print(df1)"
   ]
  },
  {
   "cell_type": "markdown",
   "metadata": {},
   "source": [
    "To get a first impression of the given data, let's have a look at its scatter plot:"
   ]
  },
  {
   "cell_type": "code",
   "execution_count": 3,
   "metadata": {
    "scrolled": true
   },
   "outputs": [
    {
     "data": {
      "image/png": "[encoded data removed]",
      "text/plain": [
       "<Figure size 432x288 with 1 Axes>"
      ]
     },
     "metadata": {
      "needs_background": "light"
     },
     "output_type": "display_data"
    }
   ],
   "source": [
    "plt.scatter(df1.x, df1.y, color = \"y\", marker = \"o\", s = 40)\n",
    "plt.xlabel('x') \n",
    "plt.ylabel('y')\n",
    "plt.title('first overview of the data')\n",
    "plt.show()"
   ]
  },
  {
   "cell_type": "markdown",
   "metadata": {},
   "source": [
    "We can already see a linear correlation between x and y. Assume the feature x to be descriptive, while y is our target feature. We want a linear function, y=ax+b, that predicts y as accurately as possible based on x. To achieve this goal we use linear regression from the sklearn package."
   ]
  },
  {
   "cell_type": "code",
   "execution_count": 4,
   "metadata": {},
   "outputs": [],
   "source": [
    "#define the set of descriptive features (in this case only 'x' is in that set) and the target feature (in this case 'y')\n",
    "descriptiveFeatures1=df1[['x']]\n",
    "targetFeature1=df1['y']\n",
    "\n",
    "#define the classifier\n",
    "classifier = LinearRegression()\n",
    "#train the classifier\n",
    "model1 = classifier.fit(descriptiveFeatures1, targetFeature1)"
   ]
  },
  {
   "cell_type": "markdown",
   "metadata": {},
   "source": [
    "Now we can use the classifier to predict y. We print the predictions as well as the coefficient and bias (*intercept*) of the linear function."
   ]
  },
  {
   "cell_type": "code",
   "execution_count": 5,
   "metadata": {},
   "outputs": [
    {
     "name": "stdout",
     "output_type": "stream",
     "text": [
      "[ 1.23636364  2.40606061  3.57575758  4.74545455  5.91515152  7.08484848\n",
      "  8.25454545  9.42424242 10.59393939 11.76363636]\n",
      "Coefficients: \n",
      " [1.16969697]\n",
      "Intercept: \n",
      " 1.2363636363636399\n"
     ]
    }
   ],
   "source": [
    "#use the classifier to make prediction\n",
    "targetFeature1_predict = classifier.predict(descriptiveFeatures1)\n",
    "print(targetFeature1_predict)\n",
    "#print coefficient and intercept\n",
    "print('Coefficients: \\n', classifier.coef_)\n",
    "print('Intercept: \\n', classifier.intercept_)"
   ]
  },
  {
   "cell_type": "markdown",
   "metadata": {},
   "source": [
    "Let's visualize our regression function with the scatterplot showing the original data set. Herefore, we use the predicted values."
   ]
  },
  {
   "cell_type": "code",
   "execution_count": 6,
   "metadata": {
    "scrolled": true
   },
   "outputs": [
    {
     "data": {
      "image/png": "[encoded data removed]",
      "text/plain": [
       "<Figure size 432x288 with 1 Axes>"
      ]
     },
     "metadata": {
      "needs_background": "light"
     },
     "output_type": "display_data"
    }
   ],
   "source": [
    "#visualize data points\n",
    "plt.scatter(df1.x, df1.y, color = \"y\", marker = \"o\", s = 40) \n",
    "#visualize regression function\n",
    "plt.plot(descriptiveFeatures1, targetFeature1_predict, color = \"g\") \n",
    "plt.xlabel('x') \n",
    "plt.ylabel('y') \n",
    "plt.title('the data and the regression function')\n",
    "plt.show()"
   ]
  },
  {
   "cell_type": "markdown",
   "metadata": {},
   "source": [
    "### <span style=\"color:green\"> Now it is your turn. </span> Build a simple linear regression for the data below. Use col1 as descriptive feature and col2 as target feature. Also plot your results."
   ]
  },
  {
   "cell_type": "code",
   "execution_count": 7,
   "metadata": {},
   "outputs": [],
   "source": [
    "df2 = pd.DataFrame({'col1': [770, 677, 428, 410, 371, 504, 1136, 695, 551, 550], 'col2': [54, 47, 28, 38, 29, 38, 80, 52, 45, 40]})\n",
    "#Your turn\n"
   ]
  },
  {
   "cell_type": "markdown",
   "metadata": {},
   "source": [
    "### Evaluation\n",
    "\n",
    "Usually, the model and its predictions is not sufficient. In the following we want to evaluate our classifiers. \n",
    "\n",
    "Let's start by computing their error. The sklearn.metrics package contains several errors such as\n",
    "\n",
    "* Mean squared error\n",
    "* Mean absolute error\n",
    "* Mean squared log error\n",
    "* Median absolute error\n"
   ]
  },
  {
   "cell_type": "code",
   "execution_count": 8,
   "metadata": {},
   "outputs": [
    {
     "name": "stdout",
     "output_type": "stream",
     "text": [
      "Mean squared error model 1: 0.56\n"
     ]
    }
   ],
   "source": [
    "#computing the squared error of the first model\n",
    "print(\"Mean squared error model 1: %.2f\" % mean_squared_error(targetFeature1, targetFeature1_predict))"
   ]
  },
  {
   "cell_type": "markdown",
   "metadata": {},
   "source": [
    "We can also visualize the errors:"
   ]
  },
  {
   "cell_type": "code",
   "execution_count": 9,
   "metadata": {},
   "outputs": [
    {
     "data": {
      "image/png": "[encoded data removed]",
      "text/plain": [
       "<Figure size 432x288 with 1 Axes>"
      ]
     },
     "metadata": {
      "needs_background": "light"
     },
     "output_type": "display_data"
    }
   ],
   "source": [
    "plt.scatter(targetFeature1_predict, (targetFeature1 - targetFeature1_predict) ** 2, color = \"blue\", s = 10,) \n",
    "  \n",
    "## plotting line to visualize zero error \n",
    "plt.hlines(y = 0, xmin = 0, xmax = 15, linewidth = 2) \n",
    "  \n",
    "## plot title \n",
    "plt.title(\"Squared errors Model 1\") \n",
    "  \n",
    "## function to show plot \n",
    "plt.show() "
   ]
  },
  {
   "cell_type": "markdown",
   "metadata": {},
   "source": [
    "### <span style=\"color:green\"> Now it is your turn. </span> Compute the mean squared error and visualize the squared errors. Play around using different error metrics."
   ]
  },
  {
   "cell_type": "code",
   "execution_count": 10,
   "metadata": {},
   "outputs": [],
   "source": [
    "#Your turn\n"
   ]
  },
  {
   "cell_type": "markdown",
   "metadata": {},
   "source": [
    "## Handling multiple descriptive features at once - Multiple linear regression\n",
    "In most cases, we will have more than one descriptive feature . As an example we use an example data set of the scikit package. The dataset describes housing prices in Boston based on several attributes. Note, in this format the data is already split into descriptive features and a target feature."
   ]
  },
  {
   "cell_type": "code",
   "execution_count": 11,
   "metadata": {},
   "outputs": [
    {
     "name": "stdout",
     "output_type": "stream",
     "text": [
      "Descriptive features:\n",
      "      CRIM    ZN  INDUS  CHAS    NOX     RM   AGE     DIS  RAD    TAX  \\\n",
      "0  0.00632  18.0   2.31   0.0  0.538  6.575  65.2  4.0900  1.0  296.0   \n",
      "1  0.02731   0.0   7.07   0.0  0.469  6.421  78.9  4.9671  2.0  242.0   \n",
      "2  0.02729   0.0   7.07   0.0  0.469  7.185  61.1  4.9671  2.0  242.0   \n",
      "3  0.03237   0.0   2.18   0.0  0.458  6.998  45.8  6.0622  3.0  222.0   \n",
      "4  0.06905   0.0   2.18   0.0  0.458  7.147  54.2  6.0622  3.0  222.0   \n",
      "\n",
      "   PTRATIO       B  LSTAT  \n",
      "0     15.3  396.90   4.98  \n",
      "1     17.8  396.90   9.14  \n",
      "2     17.8  392.83   4.03  \n",
      "3     18.7  394.63   2.94  \n",
      "4     18.7  396.90   5.33  \n",
      "Target feature:\n",
      "   target\n",
      "0    24.0\n",
      "1    21.6\n",
      "2    34.7\n",
      "3    33.4\n",
      "4    36.2\n"
     ]
    }
   ],
   "source": [
    "from sklearn import datasets ## imports datasets from scikit-learn\n",
    "df3 = datasets.load_boston()\n",
    "\n",
    "#The sklearn package provides the data splitted into a set of descriptive features and a target feature.\n",
    "#We can easily transform this format into the pandas data frame as used above.\n",
    "descriptiveFeatures3 = pd.DataFrame(df3.data, columns=df3.feature_names)\n",
    "targetFeature3 = pd.DataFrame(df3.target, columns=['target'])\n",
    "print('Descriptive features:')\n",
    "print(descriptiveFeatures3.head())\n",
    "print('Target feature:')\n",
    "print(targetFeature3.head())"
   ]
  },
  {
   "cell_type": "markdown",
   "metadata": {},
   "source": [
    "To predict the housing price we will use a Multiple Linear Regression model. In Python this is very straightforward: we use the same function as for simple linear regression, but our set of descriptive features now contains more than one element (see above)."
   ]
  },
  {
   "cell_type": "code",
   "execution_count": 12,
   "metadata": {},
   "outputs": [
    {
     "name": "stdout",
     "output_type": "stream",
     "text": [
      "Coefficients: \n",
      " [[-1.08011358e-01  4.64204584e-02  2.05586264e-02  2.68673382e+00\n",
      "  -1.77666112e+01  3.80986521e+00  6.92224640e-04 -1.47556685e+00\n",
      "   3.06049479e-01 -1.23345939e-02 -9.52747232e-01  9.31168327e-03\n",
      "  -5.24758378e-01]]\n",
      "Intercept: \n",
      " [36.45948839]\n",
      "Mean squared error: 21.89\n"
     ]
    }
   ],
   "source": [
    "classifier = LinearRegression()\n",
    "model3 = classifier.fit(descriptiveFeatures3,targetFeature3)\n",
    "\n",
    "targetFeature3_predict = classifier.predict(descriptiveFeatures3)\n",
    "print('Coefficients: \\n', classifier.coef_)\n",
    "print('Intercept: \\n', classifier.intercept_)\n",
    "print(\"Mean squared error: %.2f\" % mean_squared_error(targetFeature3, targetFeature3_predict))"
   ]
  },
  {
   "cell_type": "markdown",
   "metadata": {},
   "source": [
    "As you can see above, we have a coefficient for each descriptive feature."
   ]
  },
  {
   "cell_type": "markdown",
   "metadata": {},
   "source": [
    "## Handling categorical descriptive features\n",
    "So far we always encountered numerical dscriptive features, but data sets can also contain categorical attributes. The regression function can only handle numerical input. There are several ways to tranform our categorical data to numerical data (for example using one-hot encoding as explained in the lecture: we introduce a 0/1 feature for every possible value of our categorical attribute). For adequate data, another possibility is to replace each categorical value by a numerical value and adding an ordering with it. \n",
    "\n",
    "Popular possibilities to achieve this transformation are\n",
    "\n",
    "* the get_dummies function of pandas\n",
    "* the OneHotEncoder of scikit\n",
    "* the LabelEncoder of scikit\n",
    "\n",
    "After encoding the attributes we can apply our regular regression function."
   ]
  },
  {
   "cell_type": "code",
   "execution_count": 13,
   "metadata": {},
   "outputs": [
    {
     "data": {
      "text/html": [
       "<div>\n",
       "<style scoped>\n",
       "    .dataframe tbody tr th:only-of-type {\n",
       "        vertical-align: middle;\n",
       "    }\n",
       "\n",
       "    .dataframe tbody tr th {\n",
       "        vertical-align: top;\n",
       "    }\n",
       "\n",
       "    .dataframe thead th {\n",
       "        text-align: right;\n",
       "    }\n",
       "</style>\n",
       "<table border=\"1\" class=\"dataframe\">\n",
       "  <thead>\n",
       "    <tr style=\"text-align: right;\">\n",
       "      <th></th>\n",
       "      <th>A_a</th>\n",
       "      <th>A_b</th>\n",
       "      <th>A_c</th>\n",
       "      <th>B_a</th>\n",
       "      <th>B_b</th>\n",
       "      <th>B_c</th>\n",
       "    </tr>\n",
       "  </thead>\n",
       "  <tbody>\n",
       "    <tr>\n",
       "      <th>0</th>\n",
       "      <td>1</td>\n",
       "      <td>0</td>\n",
       "      <td>0</td>\n",
       "      <td>0</td>\n",
       "      <td>0</td>\n",
       "      <td>1</td>\n",
       "    </tr>\n",
       "    <tr>\n",
       "      <th>1</th>\n",
       "      <td>0</td>\n",
       "      <td>1</td>\n",
       "      <td>0</td>\n",
       "      <td>0</td>\n",
       "      <td>1</td>\n",
       "      <td>0</td>\n",
       "    </tr>\n",
       "    <tr>\n",
       "      <th>2</th>\n",
       "      <td>0</td>\n",
       "      <td>0</td>\n",
       "      <td>1</td>\n",
       "      <td>1</td>\n",
       "      <td>0</td>\n",
       "      <td>0</td>\n",
       "    </tr>\n",
       "  </tbody>\n",
       "</table>\n",
       "</div>"
      ],
      "text/plain": [
       "   A_a  A_b  A_c  B_a  B_b  B_c\n",
       "0    1    0    0    0    0    1\n",
       "1    0    1    0    0    1    0\n",
       "2    0    0    1    1    0    0"
      ]
     },
     "execution_count": 13,
     "metadata": {},
     "output_type": "execute_result"
    }
   ],
   "source": [
    "#example using pandas\n",
    "df4 = pd.DataFrame({'A':['a','b','c'],'B':['c','b','a'] })\n",
    "one_hot_pd = pd.get_dummies(df4)\n",
    "one_hot_pd"
   ]
  },
  {
   "cell_type": "code",
   "execution_count": 14,
   "metadata": {},
   "outputs": [
    {
     "name": "stdout",
     "output_type": "stream",
     "text": [
      "Transformed by One-hot Encoding: \n",
      "[[1. 0. 0. 0. 0. 1.]\n",
      " [0. 1. 0. 0. 1. 0.]\n",
      " [0. 0. 1. 1. 0. 0.]]\n",
      "Replacing categories by numerical labels: \n",
      "   A  B\n",
      "0  0  2\n",
      "1  1  1\n",
      "2  2  0\n"
     ]
    }
   ],
   "source": [
    "#example using scikit\n",
    "from sklearn.preprocessing import LabelEncoder, OneHotEncoder\n",
    "\n",
    "#apply the one hot encoder\n",
    "encoder = OneHotEncoder(categories='auto')\n",
    "encoder.fit(df4)\n",
    "df4_OneHot = encoder.transform(df4).toarray()\n",
    "print('Transformed by One-hot Encoding: ')\n",
    "print(df4_OneHot)\n",
    "\n",
    "# encode labels with value between 0 and n_classes-1\n",
    "encoder = LabelEncoder()\n",
    "df4_LE = df4.apply(encoder.fit_transform)\n",
    "print('Replacing categories by numerical labels: ')\n",
    "print(df4_LE.head())"
   ]
  },
  {
   "cell_type": "markdown",
   "metadata": {},
   "source": [
    "### <span style=\"color:green\"> Now it is your turn. </span>  Perform linear regression using the data set given below. Don't forget to transform your categorical descriptive features. The rental price attribute represents the target variable. "
   ]
  },
  {
   "cell_type": "code",
   "execution_count": 15,
   "metadata": {},
   "outputs": [],
   "source": [
    "df5 = pd.DataFrame({'Size':[500,550,620,630,665],'Floor':[4,7,9,5,8], 'Energy rating':['C', 'A', 'A', 'B', 'C'], 'Rental price': [320,380,400,390,385] })\n",
    "#Your turn\n"
   ]
  },
  {
   "cell_type": "markdown",
   "metadata": {},
   "source": [
    "## Predicting a categorical target value - Logistic regression"
   ]
  },
  {
   "cell_type": "markdown",
   "metadata": {},
   "source": [
    "We might also encounter data sets where our target feature is categorical. Here we don't transform them into numerical values, but insetad we use a logistic regression function. Luckily, sklearn provides us with a suitable function that is similar to the linear equivalent. Similar to linear regression, we can compute logistic regression on a single descriptive variable as well as on multiple variables."
   ]
  },
  {
   "cell_type": "code",
   "execution_count": 16,
   "metadata": {},
   "outputs": [
    {
     "name": "stdout",
     "output_type": "stream",
     "text": [
      "First look at the data set: \n",
      "   sepal_length  sepal_width  petal_length  petal_width species\n",
      "0           5.1          3.5           1.4          0.2  setosa\n",
      "1           4.9          3.0           1.4          0.2  setosa\n",
      "2           4.7          3.2           1.3          0.2  setosa\n",
      "3           4.6          3.1           1.5          0.2  setosa\n",
      "4           5.0          3.6           1.4          0.2  setosa\n",
      "Coefficients: \n",
      " [[-0.86959145]\n",
      " [ 0.01223362]\n",
      " [ 0.57972675]]\n",
      "Intercept: \n",
      " [ 4.16186636 -0.74244291 -3.9921824 ]\n"
     ]
    }
   ],
   "source": [
    "# Importing the dataset\n",
    "iris = pd.read_csv('iris.csv')\n",
    "\n",
    "print('First look at the data set: ')\n",
    "print(iris.head())\n",
    "\n",
    "#defining the descriptive and target features\n",
    "descriptiveFeatures_iris = iris[['sepal_length']] #we only use the attribute 'sepal_length' in this example\n",
    "targetFeature_iris = iris['species'] #we want to predict the 'species' of iris\n",
    "\n",
    "from sklearn.linear_model import LogisticRegression\n",
    "classifier = LogisticRegression(solver = 'liblinear', multi_class = 'ovr')\n",
    "classifier.fit(descriptiveFeatures_iris, targetFeature_iris)\n",
    "\n",
    "targetFeature_iris_pred = classifier.predict(descriptiveFeatures_iris)\n",
    "\n",
    "print('Coefficients: \\n', classifier.coef_)\n",
    "print('Intercept: \\n', classifier.intercept_)"
   ]
  },
  {
   "cell_type": "markdown",
   "metadata": {},
   "source": [
    "### <span style=\"color:green\"> Now it is your turn. </span>  In the example above we only used the first attribute as descriptive variable. Change the example such that all available attributes are used."
   ]
  },
  {
   "cell_type": "code",
   "execution_count": 17,
   "metadata": {},
   "outputs": [],
   "source": [
    "#Your turn"
   ]
  },
  {
   "cell_type": "markdown",
   "metadata": {},
   "source": [
    "Note, that the regression classifier (both logistic and non-logistic) can be tweaked using several parameters. This includes, but is not limited to, non-linear regression. Check out the documentation for details and feel free to play around!"
   ]
  },
  {
   "cell_type": "markdown",
   "metadata": {},
   "source": [
    "# Support Vector Machines"
   ]
  },
  {
   "cell_type": "markdown",
   "metadata": {},
   "source": [
    "Aside from regression models, the sklearn package also provides us with a function for training support vector machines. Looking at the example below we see that they can be trained in similar ways. We still use the iris data set for illustration."
   ]
  },
  {
   "cell_type": "code",
   "execution_count": 18,
   "metadata": {},
   "outputs": [
    {
     "data": {
      "text/plain": [
       "array(['setosa', 'setosa', 'setosa', 'setosa', 'setosa'], dtype=object)"
      ]
     },
     "execution_count": 18,
     "metadata": {},
     "output_type": "execute_result"
    }
   ],
   "source": [
    "from sklearn.svm import SVC\n",
    "\n",
    "#define descriptive and target features as before\n",
    "descriptiveFeatures_iris = iris[['sepal_length', 'sepal_width', 'petal_length', 'petal_width']]\n",
    "targetFeature_iris = iris['species']\n",
    "\n",
    "#this time, we train an SVM classifier\n",
    "classifier = SVC(C=1, kernel='linear', gamma = 'auto')\n",
    "classifier.fit(descriptiveFeatures_iris, targetFeature_iris)\n",
    "\n",
    "targetFeature_iris_predict = classifier.predict(descriptiveFeatures_iris)\n",
    "targetFeature_iris_predict[0:5] #show the first 5 predicted values"
   ]
  },
  {
   "cell_type": "markdown",
   "metadata": {},
   "source": [
    "As explained in the lecture, a support vector machine is defined by its support vectors. In the sklearn package we can access them and their properties very easily:\n",
    "\n",
    "* support_: indicies of support vectors\n",
    "* support_vectors_: the support vectors\n",
    "* n_support_: the number of support vectors for each class"
   ]
  },
  {
   "cell_type": "code",
   "execution_count": 19,
   "metadata": {},
   "outputs": [
    {
     "name": "stdout",
     "output_type": "stream",
     "text": [
      "Indicies of support vectors:\n",
      "[ 23  24  41  52  56  63  66  68  70  72  76  77  83  84  98 106 110 119\n",
      " 123 126 127 129 133 138 146 147 149]\n",
      "The support vectors:\n",
      "[[5.1 3.3 1.7 0.5]\n",
      " [4.8 3.4 1.9 0.2]\n",
      " [4.5 2.3 1.3 0.3]\n",
      " [6.9 3.1 4.9 1.5]\n",
      " [6.3 3.3 4.7 1.6]\n",
      " [6.1 2.9 4.7 1.4]\n",
      " [5.6 3.  4.5 1.5]\n",
      " [6.2 2.2 4.5 1.5]\n",
      " [5.9 3.2 4.8 1.8]\n",
      " [6.3 2.5 4.9 1.5]\n",
      " [6.8 2.8 4.8 1.4]\n",
      " [6.7 3.  5.  1.7]\n",
      " [6.  2.7 5.1 1.6]\n",
      " [5.4 3.  4.5 1.5]\n",
      " [5.1 2.5 3.  1.1]\n",
      " [4.9 2.5 4.5 1.7]\n",
      " [6.5 3.2 5.1 2. ]\n",
      " [6.  2.2 5.  1.5]\n",
      " [6.3 2.7 4.9 1.8]\n",
      " [6.2 2.8 4.8 1.8]\n",
      " [6.1 3.  4.9 1.8]\n",
      " [7.2 3.  5.8 1.6]\n",
      " [6.3 2.8 5.1 1.5]\n",
      " [6.  3.  4.8 1.8]\n",
      " [6.3 2.5 5.  1.9]\n",
      " [6.5 3.  5.2 2. ]\n",
      " [5.9 3.  5.1 1.8]]\n",
      "The number of support vectors for each class:\n",
      "[ 3 12 12]\n"
     ]
    }
   ],
   "source": [
    "print('Indicies of support vectors:')\n",
    "print(classifier.support_)\n",
    "\n",
    "print('The support vectors:')\n",
    "print(classifier.support_vectors_)\n",
    "\n",
    "print('The number of support vectors for each class:')\n",
    "print(classifier.n_support_)"
   ]
  },
  {
   "cell_type": "markdown",
   "metadata": {},
   "source": [
    "We can also calculate the distance of the data points to the separating hyperplane by using the decision_function(X) method. Score(X,y) calculates the mean accuracy of the classification. The classification report shows metrics such as precision, recall, f1-score and support. You will learn more about these quality metrics in a few lectures."
   ]
  },
  {
   "cell_type": "code",
   "execution_count": 20,
   "metadata": {},
   "outputs": [
    {
     "name": "stdout",
     "output_type": "stream",
     "text": [
      "Accuracy: \n",
      " 0.9933333333333333\n",
      "Classification report: \n",
      "\n",
      "              precision    recall  f1-score   support\n",
      "\n",
      "      setosa       1.00      1.00      1.00        50\n",
      "  versicolor       1.00      0.98      0.99        50\n",
      "   virginica       0.98      1.00      0.99        50\n",
      "\n",
      "    accuracy                           0.99       150\n",
      "   macro avg       0.99      0.99      0.99       150\n",
      "weighted avg       0.99      0.99      0.99       150\n",
      "\n"
     ]
    }
   ],
   "source": [
    "from sklearn.metrics import classification_report\n",
    "classifier.decision_function(descriptiveFeatures_iris)\n",
    "print('Accuracy: \\n', classifier.score(descriptiveFeatures_iris,targetFeature_iris))\n",
    "print('Classification report: \\n')\n",
    "print(classification_report(targetFeature_iris, targetFeature_iris_predict))  "
   ]
  },
  {
   "cell_type": "markdown",
   "metadata": {},
   "source": [
    "The SVC has many parameters. In the lecture you learned about the concept of kernels. Scikit gives you the opportunity to try different kernel functions.\n",
    "Furthermore, the parameter C tells the SVM optimization problem how much you want to avoid misclassifying each training example. "
   ]
  },
  {
   "cell_type": "markdown",
   "metadata": {},
   "source": [
    "On the scikit website you can find more information about the available kernels etc. http://scikit-learn.org/stable/modules/generated/sklearn.svm.SVC.html"
   ]
  }
 ],
 "metadata": {
  "kernelspec": {
   "display_name": "Python 3",
   "language": "python",
   "name": "python3"
  },
  "language_info": {
   "codemirror_mode": {
    "name": "ipython",
    "version": 3
   },
   "file_extension": ".py",
   "mimetype": "text/x-python",
   "name": "python",
   "nbconvert_exporter": "python",
   "pygments_lexer": "ipython3",
   "version": "3.7.3"
  }
 },
 "nbformat": 4,
 "nbformat_minor": 2
}
