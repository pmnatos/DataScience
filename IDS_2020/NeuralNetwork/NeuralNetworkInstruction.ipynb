{
 "cells": [
  {
   "cell_type": "markdown",
   "metadata": {},
   "source": [
    "# Simple Neural Network\n",
    "\n",
    "Let's create a simple neural network. Fill the gaps with the correct variables/values. Our Neural Network has one hidden layer and two inputs. "
   ]
  },
  {
   "cell_type": "code",
   "execution_count": 12,
   "metadata": {},
   "outputs": [
    {
     "name": "stdout",
     "output_type": "stream",
     "text": [
      "Initial weights:  [[0.42019708 0.69926266]\n",
      " [0.46552616 0.54929044]]\n",
      "Difference in the outcome:  [[-0.69227863]\n",
      " [ 0.30772137]\n",
      " [ 0.17360183]\n",
      " [ 0.17360183]]\n",
      "Final weights:  [[ 1.22195915  1.83794422]\n",
      " [-0.06953528 -0.5522003 ]]\n"
     ]
    }
   ],
   "source": [
    "import numpy as np\n",
    "#activation funcion\n",
    "def sigmoid(x):\n",
    "    return 1.0/(1+ np.exp(-x))\n",
    "\n",
    "def sigmoid_derivative(x):\n",
    "    return x * (1.0 - x)\n",
    "\n",
    "#class of your neural network\n",
    "class NeuralNetwork:\n",
    "    \n",
    "    #set the features of your neural network\n",
    "    def __init__(self, x, y):\n",
    "        #set the training input\n",
    "        self.input      = \n",
    "        #randomly assign the weights for the different layers\n",
    "        self.weights1   = \n",
    "        self.weights2   =\n",
    "        #set the output for the training input set\n",
    "        self.y          = \n",
    "        #add zeros as initial output\n",
    "        self.output     = \n",
    "    #feedforward function \n",
    "    def feedforward(self):\n",
    "         #do the calculation for the input value of neurons in the hidden layer\n",
    "        hidden_node1 = \n",
    "        hidden_node2 = \n",
    "        #calculate the value of the hidden layer and the output of your network\n",
    "        self.layer1 = \n",
    "        self.output = \n",
    "        # return the output\n",
    "        return \n",
    "       #backpropagate the error\n",
    "    def backprop(self):\n",
    "        # chain rule to find the derivatives of the error with respect to weights2 and weights1\n",
    "        d_weights2 = \n",
    "        d_weights1 = \n",
    "        # update the weights with the derivative of the error function\n",
    "        self.weights1 += \n",
    "        self.weights2 +=\n",
    "        \n",
    "#test what you have done \n",
    "if __name__ == \"__main__\":\n",
    "    \n",
    "    X = np.array([[0,1],\n",
    "                  [0,1],\n",
    "                  [1,1],\n",
    "                  [1,1]])\n",
    "    y =  np.array([[0],[1],[1],[1]])\n",
    "    nn = NeuralNetwork(X,y)\n",
    "    print('Initial weights: ',)\n",
    "\n",
    "   \n",
    "    print('Difference in the outcome: ', )\n",
    "    print('Final weights: ',)"
   ]
  },
  {
   "cell_type": "markdown",
   "metadata": {},
   "source": [
    "# Multi-Layer Network\n",
    "\n",
    "Compare for this the provided *UsefulLibraries* jupyter notebook."
   ]
  },
  {
   "cell_type": "markdown",
   "metadata": {},
   "source": [
    "## OR Function\n",
    "Create an MLP classifier for the OR-Function."
   ]
  },
  {
   "cell_type": "code",
   "execution_count": 1,
   "metadata": {},
   "outputs": [
    {
     "name": "stderr",
     "output_type": "stream",
     "text": [
      "C:\\Users\\mannel\\Anaconda3\\lib\\site-packages\\sklearn\\neural_network\\multilayer_perceptron.py:566: ConvergenceWarning: Stochastic Optimizer: Maximum iterations (200) reached and the optimization hasn't converged yet.\n",
      "  % self.max_iter, ConvergenceWarning)\n"
     ]
    },
    {
     "data": {
      "text/plain": [
       "array([1])"
      ]
     },
     "execution_count": 1,
     "metadata": {},
     "output_type": "execute_result"
    }
   ],
   "source": [
    "from sklearn.neural_network import MLPClassifier\n",
    "from sklearn.linear_model import Perceptron\n",
    "import sklearn.metrics as metric\n",
    "import numpy as np\n",
    "\n",
    "#insert here the training data you need for input and output\n",
    "X_training=[[0,0],[1,0],[0,1],[1,1]]\n",
    "y_training=[0,1,1,1]\n",
    "#create the corresponding net with the MLP classifier\n",
    "mynet =\n",
    "# Train it.\n",
    "\n",
    "# What is the output of your classifier for [1,1]?\n"
   ]
  },
  {
   "cell_type": "markdown",
   "metadata": {},
   "source": [
    "## Bipolar OR\n",
    "\n",
    "Instead of {0, 1}, we can also change the value into bipolar {-1, +1}. Try again to create a perceptron using the MLP Classifier for the OR-function with the bipolar output."
   ]
  },
  {
   "cell_type": "code",
   "execution_count": 18,
   "metadata": {},
   "outputs": [
    {
     "name": "stderr",
     "output_type": "stream",
     "text": [
      "C:\\Users\\testuser\\anaconda3\\envs\\env-IDS2020\\lib\\site-packages\\sklearn\\neural_network\\_multilayer_perceptron.py:585: ConvergenceWarning: Stochastic Optimizer: Maximum iterations (200) reached and the optimization hasn't converged yet.\n",
      "  % self.max_iter, ConvergenceWarning)\n"
     ]
    },
    {
     "data": {
      "text/plain": [
       "array([1])"
      ]
     },
     "execution_count": 18,
     "metadata": {},
     "output_type": "execute_result"
    }
   ],
   "source": [
    "from sklearn.neural_network import MLPClassifier\n",
    "from sklearn.linear_model import Perceptron\n",
    "import sklearn.metrics as metric\n",
    "import numpy as np\n",
    "\n",
    "#insert here the training data you need for input and output\n",
    "X_training=[[1, 1], \n",
    "            [1, -1],\n",
    "            [-1, 1],\n",
    "            [-1, -1]\n",
    "           ]\n",
    "y_training=[1, \n",
    "            1,\n",
    "            1,\n",
    "            -1\n",
    "           ]\n",
    "#create the corresponding net with the MLP classifier\n",
    "\n",
    "#Train it\n",
    "\n",
    "# What is the output of your classifier for [1,1]?\n"
   ]
  },
  {
   "cell_type": "markdown",
   "metadata": {},
   "source": [
    "## XNOR \n",
    "\n",
    "Create a XNOR net with 100% accuracy for the training data."
   ]
  },
  {
   "cell_type": "code",
   "execution_count": 2,
   "metadata": {},
   "outputs": [
    {
     "name": "stdout",
     "output_type": "stream",
     "text": [
      "Accuracy: True\n",
      "True\n",
      "Accuracy: True\n",
      "True\n",
      "Accuracy: True\n",
      "True\n",
      "Accuracy: False\n",
      "True\n"
     ]
    }
   ],
   "source": [
    "import warnings\n",
    "warnings.filterwarnings(\"ignore\")\n",
    "from sklearn.neural_network import MLPClassifier\n",
    "import sklearn.metrics as metric\n",
    "import numpy as np\n",
    "# the needed input\n",
    "X_training=[[1, 1], \n",
    "            [1, 0],\n",
    "            [0, 1],\n",
    "            [0, 0]\n",
    "           ]\n",
    "y_training=[1, \n",
    "            0,\n",
    "            0,\n",
    "            0\n",
    "           ]\n",
    "# create a MLPClassifiert with 100% accuracy or stop after 100 steps\n"
   ]
  },
  {
   "cell_type": "code",
   "execution_count": 25,
   "metadata": {},
   "outputs": [
    {
     "name": "stdout",
     "output_type": "stream",
     "text": [
      "accuracy= 1.0\n",
      "Number of hidden layers:  5\n",
      "[(2, 5), (5, 1)]\n"
     ]
    },
    {
     "data": {
      "text/plain": [
       "2"
      ]
     },
     "execution_count": 25,
     "metadata": {},
     "output_type": "execute_result"
    }
   ],
   "source": [
    "print('Accuracy=',)                         # show the accuracy score\n",
    "print('Number of hidden layers: ', )\n",
    "\n",
    "print()  # size of synapsis weights\n",
    "print()                                  # synapsis weights"
   ]
  }
 ],
 "metadata": {
  "kernelspec": {
   "display_name": "Python 3",
   "language": "python",
   "name": "python3"
  },
  "language_info": {
   "codemirror_mode": {
    "name": "ipython",
    "version": 3
   },
   "file_extension": ".py",
   "mimetype": "text/x-python",
   "name": "python",
   "nbconvert_exporter": "python",
   "pygments_lexer": "ipython3",
   "version": "3.8.3"
  }
 },
 "nbformat": 4,
 "nbformat_minor": 2
}
