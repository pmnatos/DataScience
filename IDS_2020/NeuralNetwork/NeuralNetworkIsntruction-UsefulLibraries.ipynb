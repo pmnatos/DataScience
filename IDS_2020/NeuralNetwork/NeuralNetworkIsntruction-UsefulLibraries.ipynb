{
 "cells": [
  {
   "cell_type": "markdown",
   "metadata": {},
   "source": [
    "# Python Useful Libraries\n",
    "Simple Examples"
   ]
  },
  {
   "cell_type": "markdown",
   "metadata": {},
   "source": [
    "## Split data\n",
    "\n",
    "https://scikit-learn.org/stable/modules/generated/sklearn.model_selection.train_test_split.html\n",
    "\n",
    "A simple example of how you can split your data into test and training data."
   ]
  },
  {
   "cell_type": "code",
   "execution_count": 6,
   "metadata": {},
   "outputs": [],
   "source": [
    "from sklearn.model_selection import train_test_split\n",
    "import pandas as pd\n",
    "#Example data\n",
    "X = [[0, 0], [1, 1],[0, 1], [1, 1],[1,0]]\n",
    "Y = [0, 1,0,1,1]\n",
    "#splitting\n",
    "X_train, X_test, y_train, y_test = train_test_split(X, Y, stratify=Y, random_state=1)\n"
   ]
  },
  {
   "cell_type": "markdown",
   "metadata": {},
   "source": [
    "## MLP Classifier\n",
    "https://scikit-learn.org/stable/modules/generated/sklearn.neural_network.MLPClassifier.html\n",
    "\n",
    "The MLP classifier creates a multi-layer peceptron."
   ]
  },
  {
   "cell_type": "code",
   "execution_count": 8,
   "metadata": {
    "scrolled": true
   },
   "outputs": [
    {
     "name": "stdout",
     "output_type": "stream",
     "text": [
      "[(2, 100), (100, 1)]\n",
      "[array([[-2.44330892e-03,  4.11415025e-01, -1.59271002e-01,\n",
      "         4.39061195e-01, -1.62992369e-01, -7.45621302e-02,\n",
      "        -1.51324091e-01, -1.56931617e-01, -2.89553801e-01,\n",
      "         9.02975930e-02,  1.93789952e-03,  1.60449381e-02,\n",
      "        -3.27340238e-01,  2.86981639e-01, -6.13761974e-07,\n",
      "         5.16614126e-02, -3.67064472e-01, -3.06145552e-03,\n",
      "         3.67177677e-01,  3.71057508e-01, -3.74126317e-04,\n",
      "        -1.36471587e-01, -1.05588026e-05,  3.46969289e-01,\n",
      "         3.66994451e-01, -3.61661294e-07,  1.74671088e-03,\n",
      "        -2.16205260e-01,  1.02236443e-01,  8.43520328e-07,\n",
      "        -7.57432877e-02,  3.95221133e-03,  9.68024065e-02,\n",
      "        -7.57652581e-02, -1.21081200e-01, -2.17316903e-01,\n",
      "        -8.84140389e-07, -1.45077499e-01, -7.94029131e-08,\n",
      "         2.25382636e-01, -1.52798788e-01,  1.68808251e-01,\n",
      "         1.32055340e-02,  9.18396566e-02, -2.58350452e-01,\n",
      "         2.90111732e-01,  2.22916443e-01, -5.85973625e-02,\n",
      "        -1.96185275e-01,  2.90171109e-02,  8.21222111e-06,\n",
      "        -2.51009718e-02,  1.13467418e-01,  3.15206355e-01,\n",
      "        -4.46681900e-02,  7.03585231e-07, -2.29254508e-01,\n",
      "        -2.02165905e-01,  4.11765339e-07, -1.15626389e-02,\n",
      "         1.23380914e-01,  1.03044933e-01,  4.46826362e-02,\n",
      "         2.98905529e-01,  3.86970889e-01, -2.39213889e-01,\n",
      "         6.23184258e-04, -2.32699808e-06,  3.84147575e-01,\n",
      "         4.03853790e-01,  1.15970653e-01,  3.56214543e-01,\n",
      "         4.05052082e-01,  2.12148605e-01,  3.89181586e-01,\n",
      "         3.25182458e-01,  1.44962360e-03,  1.27982354e-05,\n",
      "         7.94354148e-03,  4.16542898e-01, -2.61520730e-06,\n",
      "         4.34439604e-02, -1.35879214e-01,  2.56307623e-01,\n",
      "        -5.77732475e-02, -2.72284338e-01,  2.77937091e-01,\n",
      "        -5.93804807e-02,  1.24963785e-02,  2.58507303e-06,\n",
      "         3.83084547e-01, -3.35484026e-01, -2.31990630e-01,\n",
      "        -3.06369934e-01,  4.39395637e-07,  3.38308405e-01,\n",
      "         3.76014855e-01, -4.52277799e-02, -6.92813708e-02,\n",
      "        -2.51417146e-01],\n",
      "       [-1.52474335e-03,  1.83637182e-02, -1.56403022e-01,\n",
      "         1.29258922e-01, -1.04852617e-01,  1.95667678e-05,\n",
      "         1.56550973e-01, -1.78823132e-01, -3.93612863e-02,\n",
      "        -3.93591737e-02, -2.42903369e-02, -1.25358038e-07,\n",
      "        -4.35012691e-04,  2.17187636e-01, -2.70309296e-08,\n",
      "         2.51285772e-02,  6.73962032e-02,  9.46426277e-03,\n",
      "         2.54198512e-01,  3.13612067e-01,  7.92928046e-03,\n",
      "        -7.71510805e-02, -1.25708525e-08,  1.56500760e-01,\n",
      "         4.89002376e-02,  2.00640799e-03, -1.17974535e-02,\n",
      "        -8.10698151e-02,  3.69076120e-01,  1.47841128e-06,\n",
      "         5.84491584e-04, -2.16577299e-01,  9.85252832e-02,\n",
      "        -2.07445273e-01,  1.95633737e-01, -7.16747450e-03,\n",
      "         2.16903354e-05, -2.06599406e-01, -1.45926034e-02,\n",
      "         8.45391820e-02, -1.45072911e-01, -2.50813277e-02,\n",
      "        -2.10380266e-01,  2.18088575e-05, -8.85151188e-02,\n",
      "         2.71794723e-01, -4.56767688e-02,  9.62693973e-02,\n",
      "        -9.06028629e-03,  3.29258098e-02, -2.29987310e-05,\n",
      "        -5.65039322e-06, -2.92198080e-01,  3.88194666e-01,\n",
      "         6.84591382e-03, -6.04591925e-02, -6.20677079e-02,\n",
      "        -6.19218675e-03, -5.03175218e-02,  4.02944848e-06,\n",
      "        -1.07352416e-07,  4.69939353e-02,  1.14271126e-02,\n",
      "         3.24879954e-01,  1.31345794e-01,  9.40066747e-02,\n",
      "        -1.11386765e-02,  3.09277541e-03,  7.12187652e-02,\n",
      "         3.48832076e-01, -2.19931134e-02,  1.58203678e-03,\n",
      "         7.32204647e-02,  1.15071758e-01,  3.27455020e-01,\n",
      "         1.24345156e-01, -1.78194528e-07, -1.09973093e-03,\n",
      "         1.44146277e-01, -3.59067295e-02, -8.26454803e-02,\n",
      "         1.39734922e-01,  2.14493352e-01, -4.56106171e-02,\n",
      "         4.68035630e-03, -5.82454463e-02,  2.65811382e-01,\n",
      "         8.80001792e-07, -9.79592022e-02,  1.24605340e-06,\n",
      "         4.63132535e-02, -1.75800496e-02, -1.43354701e-02,\n",
      "        -9.70217272e-03,  8.14244245e-03,  8.10266045e-02,\n",
      "         1.97605608e-01, -4.74068478e-02,  1.37566578e-05,\n",
      "         5.16467745e-02]]), array([[ 1.51329368e-01],\n",
      "       [ 2.62761267e-01],\n",
      "       [-2.41031902e-01],\n",
      "       [ 2.24816075e-01],\n",
      "       [-2.92451719e-01],\n",
      "       [ 6.29721447e-02],\n",
      "       [-1.92111051e-02],\n",
      "       [-1.55190908e-01],\n",
      "       [-2.24285660e-01],\n",
      "       [-1.74448006e-01],\n",
      "       [-2.44420717e-03],\n",
      "       [ 6.31285670e-02],\n",
      "       [-1.27967754e-01],\n",
      "       [ 2.47272832e-01],\n",
      "       [ 5.40776269e-07],\n",
      "       [-3.86351256e-02],\n",
      "       [-2.29734013e-01],\n",
      "       [-5.63961002e-02],\n",
      "       [ 3.89116488e-01],\n",
      "       [ 1.98284566e-01],\n",
      "       [ 8.41478996e-03],\n",
      "       [-1.62486306e-01],\n",
      "       [-9.38850673e-07],\n",
      "       [ 3.69757110e-01],\n",
      "       [ 3.64459131e-01],\n",
      "       [-9.00915889e-05],\n",
      "       [-2.25385704e-02],\n",
      "       [-3.72211398e-01],\n",
      "       [ 2.45515731e-01],\n",
      "       [ 1.56106670e-02],\n",
      "       [ 3.57665051e-02],\n",
      "       [-3.11094106e-01],\n",
      "       [-1.09900784e-01],\n",
      "       [-3.53741015e-01],\n",
      "       [ 6.14702792e-02],\n",
      "       [-3.68130870e-01],\n",
      "       [-2.57936703e-06],\n",
      "       [-3.64188661e-01],\n",
      "       [-6.45326618e-02],\n",
      "       [ 1.14191954e-01],\n",
      "       [-3.92627654e-01],\n",
      "       [-1.26132866e-01],\n",
      "       [-1.52381819e-01],\n",
      "       [-1.46916751e-01],\n",
      "       [-1.61749431e-01],\n",
      "       [ 1.31919023e-01],\n",
      "       [ 4.48974671e-01],\n",
      "       [-7.20725046e-02],\n",
      "       [-3.48696525e-01],\n",
      "       [-2.12535211e-02],\n",
      "       [ 7.07428122e-02],\n",
      "       [ 7.21728540e-02],\n",
      "       [-7.37941214e-02],\n",
      "       [ 3.04049462e-01],\n",
      "       [-2.63618152e-02],\n",
      "       [ 3.44104700e-02],\n",
      "       [-2.57614392e-01],\n",
      "       [-3.91241522e-01],\n",
      "       [ 4.90023996e-03],\n",
      "       [ 1.89088432e-01],\n",
      "       [-9.60774795e-02],\n",
      "       [-1.11283313e-01],\n",
      "       [-1.08712147e-01],\n",
      "       [ 3.08100995e-01],\n",
      "       [ 2.37850006e-01],\n",
      "       [-1.30068297e-01],\n",
      "       [-1.04494626e-02],\n",
      "       [-3.73517254e-04],\n",
      "       [ 3.19595279e-01],\n",
      "       [ 1.77782770e-01],\n",
      "       [-1.15709157e-01],\n",
      "       [ 3.66010967e-01],\n",
      "       [ 1.99114939e-01],\n",
      "       [ 3.95741527e-01],\n",
      "       [ 3.57857019e-01],\n",
      "       [ 2.88424756e-01],\n",
      "       [-3.01591371e-02],\n",
      "       [ 1.26673117e-06],\n",
      "       [-5.24600338e-03],\n",
      "       [ 2.36611403e-01],\n",
      "       [ 2.26961447e-08],\n",
      "       [ 1.15154720e-02],\n",
      "       [-1.38230496e-02],\n",
      "       [ 4.06546396e-01],\n",
      "       [ 6.45387380e-02],\n",
      "       [-2.40101005e-01],\n",
      "       [ 1.59229982e-01],\n",
      "       [ 7.16062060e-02],\n",
      "       [-2.22182518e-02],\n",
      "       [ 4.35746788e-07],\n",
      "       [ 3.64801929e-01],\n",
      "       [-2.54776334e-01],\n",
      "       [-4.14793538e-01],\n",
      "       [-3.71597392e-01],\n",
      "       [ 2.38069491e-02],\n",
      "       [ 1.21297192e-01],\n",
      "       [ 1.75509523e-01],\n",
      "       [ 2.92453943e-02],\n",
      "       [ 3.41108566e-02],\n",
      "       [-3.27527311e-01]])]\n"
     ]
    },
    {
     "name": "stderr",
     "output_type": "stream",
     "text": [
      "C:\\Users\\testuser\\anaconda3\\envs\\env-IDS2020\\lib\\site-packages\\sklearn\\neural_network\\_multilayer_perceptron.py:585: ConvergenceWarning: Stochastic Optimizer: Maximum iterations (200) reached and the optimization hasn't converged yet.\n",
      "  % self.max_iter, ConvergenceWarning)\n"
     ]
    }
   ],
   "source": [
    "from sklearn.neural_network import MLPClassifier\n",
    "\n",
    "clf = MLPClassifier()\n",
    "clf.fit(X_train,y_train)                         \n",
    "y_pred= clf.predict(X_test)\n",
    "clf.score(X_test, y_test)\n",
    "# size of synapsis weights\n",
    "print([coef.shape for coef in clf.coefs_])  \n",
    "# get weights\n",
    "print(clf.coefs_)    "
   ]
  },
  {
   "cell_type": "markdown",
   "metadata": {},
   "source": [
    "Check the accuracy."
   ]
  },
  {
   "cell_type": "code",
   "execution_count": 10,
   "metadata": {},
   "outputs": [
    {
     "name": "stdout",
     "output_type": "stream",
     "text": [
      "1.0\n"
     ]
    }
   ],
   "source": [
    "import sklearn.metrics as metric\n",
    "import numpy as np\n",
    "\n",
    "accuracy=metric.accuracy_score(np.array(y_test).flatten(), np.array(y_pred).flatten(), normalize=True)\n",
    "print(accuracy)"
   ]
  },
  {
   "cell_type": "markdown",
   "metadata": {},
   "source": [
    "# Data from File\n",
    "\n",
    "https://pandas.pydata.org/docs/user_guide/index.html#user-guide\n",
    "\n",
    "A short example how to get the data from a file.\n"
   ]
  },
  {
   "cell_type": "code",
   "execution_count": 15,
   "metadata": {
    "scrolled": true
   },
   "outputs": [
    {
     "name": "stderr",
     "output_type": "stream",
     "text": [
      "C:\\Users\\testuser\\anaconda3\\envs\\env-IDS2020\\lib\\site-packages\\sklearn\\neural_network\\_multilayer_perceptron.py:585: ConvergenceWarning: Stochastic Optimizer: Maximum iterations (200) reached and the optimization hasn't converged yet.\n",
      "  % self.max_iter, ConvergenceWarning)\n"
     ]
    },
    {
     "data": {
      "text/plain": [
       "1.0"
      ]
     },
     "execution_count": 15,
     "metadata": {},
     "output_type": "execute_result"
    }
   ],
   "source": [
    "from sklearn.neural_network import MLPClassifier\n",
    "from sklearn.model_selection import train_test_split\n",
    "import pandas as pd\n",
    "# import the data from the csv file\n",
    "train = pd.read_csv(\"iris.csv\")\n",
    "# get the featue names expect the last one\n",
    "features = train.columns[:-1]\n",
    "# split the data values correspondingly \n",
    "X = train[features]\n",
    "Y = train['Species']\n",
    "# create training and test set\n",
    "X_train, X_test, y_train, y_test = train_test_split(X,Y,test_size=0.5)\n",
    "# train\n",
    "nn = MLPClassifier()\n",
    "a = nn.fit(X_train,y_train)\n",
    "# Returns the mean accuracy on the given test data and labels. \n",
    "nn.score(X_test,y_test)"
   ]
  }
 ],
 "metadata": {
  "kernelspec": {
   "display_name": "Python 3",
   "language": "python",
   "name": "python3"
  },
  "language_info": {
   "codemirror_mode": {
    "name": "ipython",
    "version": 3
   },
   "file_extension": ".py",
   "mimetype": "text/x-python",
   "name": "python",
   "nbconvert_exporter": "python",
   "pygments_lexer": "ipython3",
   "version": "3.7.9"
  }
 },
 "nbformat": 4,
 "nbformat_minor": 2
}
